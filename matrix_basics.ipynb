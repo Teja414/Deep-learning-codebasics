{
  "nbformat": 4,
  "nbformat_minor": 0,
  "metadata": {
    "colab": {
      "provenance": []
    },
    "kernelspec": {
      "name": "python3",
      "display_name": "Python 3"
    },
    "language_info": {
      "name": "python"
    }
  },
  "cells": [
    {
      "cell_type": "code",
      "execution_count": 1,
      "metadata": {
        "id": "bA6nvgORjouf"
      },
      "outputs": [],
      "source": [
        "import numpy as np"
      ]
    },
    {
      "cell_type": "code",
      "source": [
        "revenue  = np.array([[180,200,220],[24,36,40],[12,18,20]])\n",
        "expenses = np.array([[80,90,100],[10,16,20],[8,10,10]])"
      ],
      "metadata": {
        "id": "K81nDsNmjxqg"
      },
      "execution_count": 2,
      "outputs": []
    },
    {
      "cell_type": "code",
      "source": [
        "print(\"the profit/loss is : \\n\",revenue-expenses)"
      ],
      "metadata": {
        "colab": {
          "base_uri": "https://localhost:8080/"
        },
        "id": "Yt0hMuHvkSxu",
        "outputId": "e79dedb7-b0a3-47d9-d7e0-5b5062b1ed31"
      },
      "execution_count": 8,
      "outputs": [
        {
          "output_type": "stream",
          "name": "stdout",
          "text": [
            "the profit/loss is : \n",
            " [[100 110 120]\n",
            " [ 14  20  20]\n",
            " [  4   8  10]]\n"
          ]
        }
      ]
    },
    {
      "cell_type": "code",
      "source": [
        "price_per_unit = np.array([1000,400,1200])\n",
        "unit = np.array([[30,40,50],[5,10,15],[2,5,7]])"
      ],
      "metadata": {
        "id": "zWjra83DkI4-"
      },
      "execution_count": 6,
      "outputs": []
    },
    {
      "cell_type": "code",
      "source": [
        "print(\"the revenue generated is : \")\n",
        "print(\"   2018 2019 2020\")\n",
        "print(np.multiply(price_per_unit,unit)) #if size of the matrixes are not same then it consider to be same this is called broadcasting"
      ],
      "metadata": {
        "colab": {
          "base_uri": "https://localhost:8080/"
        },
        "id": "NBRdxMPKkwm-",
        "outputId": "bbb9ef68-33a1-4c66-8d6e-61a36e7e02ee"
      },
      "execution_count": 12,
      "outputs": [
        {
          "output_type": "stream",
          "name": "stdout",
          "text": [
            "the revenue generated is : \n",
            "   2018 2019 2020\n",
            "[[30000 16000 60000]\n",
            " [ 5000  4000 18000]\n",
            " [ 2000  2000  8400]]\n"
          ]
        }
      ]
    },
    {
      "cell_type": "code",
      "source": [
        "print(\"the revenue generated is : \")\n",
        "print(\"   2018 2019 2020\")\n",
        "print(np.dot(price_per_unit,unit))"
      ],
      "metadata": {
        "colab": {
          "base_uri": "https://localhost:8080/"
        },
        "id": "sm65T6V6ljCi",
        "outputId": "882a3ed1-16b9-4ea9-e203-b517cd6f1485"
      },
      "execution_count": 13,
      "outputs": [
        {
          "output_type": "stream",
          "name": "stdout",
          "text": [
            "the revenue generated is : \n",
            "   2018 2019 2020\n",
            "[34400 50000 64400]\n"
          ]
        }
      ]
    },
    {
      "cell_type": "code",
      "source": [
        "#excercise convert the following matrix values in dollars to indian rupees\n",
        "revenue_in_dollars = np.array([[200,220,250],[68,79,105],[110,140,180],[80,85,90]])"
      ],
      "metadata": {
        "id": "v33MSEmHl3C2"
      },
      "execution_count": 14,
      "outputs": []
    },
    {
      "cell_type": "code",
      "source": [
        "revenue_in_dollars"
      ],
      "metadata": {
        "colab": {
          "base_uri": "https://localhost:8080/"
        },
        "id": "tct83hRrmLmh",
        "outputId": "278bd912-0af5-42cf-8620-e37397ecf98b"
      },
      "execution_count": 15,
      "outputs": [
        {
          "output_type": "execute_result",
          "data": {
            "text/plain": [
              "array([[200, 220, 250],\n",
              "       [ 68,  79, 105],\n",
              "       [110, 140, 180],\n",
              "       [ 80,  85,  90]])"
            ]
          },
          "metadata": {},
          "execution_count": 15
        }
      ]
    },
    {
      "cell_type": "code",
      "source": [
        "print(\"the converted matrix in indian rupees is : \")\n",
        "75*revenue_in_dollars"
      ],
      "metadata": {
        "colab": {
          "base_uri": "https://localhost:8080/"
        },
        "id": "ySJeDL-3mPFi",
        "outputId": "62134a78-18ed-47f4-9635-752419fd484d"
      },
      "execution_count": 17,
      "outputs": [
        {
          "output_type": "stream",
          "name": "stdout",
          "text": [
            "the converted matrix in indian rupees is : \n"
          ]
        },
        {
          "output_type": "execute_result",
          "data": {
            "text/plain": [
              "array([[15000, 16500, 18750],\n",
              "       [ 5100,  5925,  7875],\n",
              "       [ 8250, 10500, 13500],\n",
              "       [ 6000,  6375,  6750]])"
            ]
          },
          "metadata": {},
          "execution_count": 17
        }
      ]
    },
    {
      "cell_type": "code",
      "source": [
        "units_sold = np.array([[50,60,25],[10,13,5],[40,70,52]])\n",
        "price_per_unit = np.array([20,30,15])"
      ],
      "metadata": {
        "id": "9vn61wHzmid2"
      },
      "execution_count": 18,
      "outputs": []
    },
    {
      "cell_type": "code",
      "source": [
        "np.dot(price_per_unit,units_sold)"
      ],
      "metadata": {
        "colab": {
          "base_uri": "https://localhost:8080/"
        },
        "id": "nevbRJWMmzT-",
        "outputId": "179752da-7e75-4779-de9c-8eef199d379b"
      },
      "execution_count": 19,
      "outputs": [
        {
          "output_type": "execute_result",
          "data": {
            "text/plain": [
              "array([1900, 2640, 1430])"
            ]
          },
          "metadata": {},
          "execution_count": 19
        }
      ]
    }
  ]
}