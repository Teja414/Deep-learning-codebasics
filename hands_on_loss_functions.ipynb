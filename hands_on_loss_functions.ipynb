{
  "nbformat": 4,
  "nbformat_minor": 0,
  "metadata": {
    "colab": {
      "provenance": []
    },
    "kernelspec": {
      "name": "python3",
      "display_name": "Python 3"
    },
    "language_info": {
      "name": "python"
    }
  },
  "cells": [
    {
      "cell_type": "code",
      "execution_count": 1,
      "metadata": {
        "id": "xI02jD0jt8XK"
      },
      "outputs": [],
      "source": [
        "import numpy as np"
      ]
    },
    {
      "cell_type": "code",
      "source": [
        "y_predicted = np.array([1,1,0,0,1])\n",
        "y_true = np.array([0.30,0.7,1,0,0.5])"
      ],
      "metadata": {
        "id": "PwIi5CtxuIYJ"
      },
      "execution_count": 37,
      "outputs": []
    },
    {
      "cell_type": "code",
      "source": [
        "def mean_abs_error(y_true,y_predicted):\n",
        "  total_error = 0\n",
        "  for yt,yp in zip(y_true,y_predicted):\n",
        "    total_error+=abs((yt - yp))\n",
        "  return total_error/len(y_true)"
      ],
      "metadata": {
        "id": "HLVDM--1uZdj"
      },
      "execution_count": 22,
      "outputs": []
    },
    {
      "cell_type": "code",
      "source": [
        "#numpy makes the above task easy by providing different functionalities\n",
        "np.mean(np.abs(y_predicted,y_true))"
      ],
      "metadata": {
        "colab": {
          "base_uri": "https://localhost:8080/"
        },
        "id": "XO4XSUFLweTO",
        "outputId": "58723f5d-0fb6-4870-9858-46a137e4c3d1"
      },
      "execution_count": 25,
      "outputs": [
        {
          "output_type": "execute_result",
          "data": {
            "text/plain": [
              "0.6"
            ]
          },
          "metadata": {},
          "execution_count": 25
        }
      ]
    },
    {
      "cell_type": "code",
      "source": [
        "def mean_square_error(y_true,y_predicted):\n",
        "  total_error = 0\n",
        "  for yt,yp in zip(y_true,y_predicted):\n",
        "    total_error+=(yt-yp)**2\n",
        "  return total_error/len(y_true)"
      ],
      "metadata": {
        "id": "bFl-cKNtvk2E"
      },
      "execution_count": 21,
      "outputs": []
    },
    {
      "cell_type": "code",
      "source": [
        " def log_loss(y_true,y_predicted):\n",
        "   #first we have to convert y_predict 0 values to close to 0 values\n",
        "   #1 values to close to 1 values\n",
        "   epsilon = 1e-15\n",
        "   y_predicted_new = [max(i,epsilon) for i in y_predicted] #0's conversion\n",
        "   y_predicted_new = [min(i,1-epsilon) for i in y_predicted_new] #1's conversion\n",
        "   y_predicted_new = np.array(y_predicted_new) #we have to convert list into numpy array first\n",
        "   return -np.mean(y_true*np.log(y_predicted_new) + (1 - y_true)*np.log(1 - y_predicted_new))"
      ],
      "metadata": {
        "id": "C1lPwCSwxBD_"
      },
      "execution_count": 42,
      "outputs": []
    },
    {
      "cell_type": "code",
      "source": [
        "print(\"the absolute error is : \",mean_abs_error(y_true,y_predicted))"
      ],
      "metadata": {
        "colab": {
          "base_uri": "https://localhost:8080/"
        },
        "id": "S11mVhXhu15x",
        "outputId": "c99f4e04-3ecd-4fc3-9251-b15b483bfcb7"
      },
      "execution_count": 23,
      "outputs": [
        {
          "output_type": "stream",
          "name": "stdout",
          "text": [
            "the absolute error is :  0.5\n"
          ]
        }
      ]
    },
    {
      "cell_type": "code",
      "source": [
        "print(\"the square error is : \",mean_square_error(y_true,y_predicted))"
      ],
      "metadata": {
        "colab": {
          "base_uri": "https://localhost:8080/"
        },
        "id": "2OjFHbC6vkEG",
        "outputId": "717cd311-c3f8-4ca7-cb39-1bd0ac43d475"
      },
      "execution_count": 24,
      "outputs": [
        {
          "output_type": "stream",
          "name": "stdout",
          "text": [
            "the square error is :  0.366\n"
          ]
        }
      ]
    },
    {
      "cell_type": "code",
      "source": [
        "print(\"the log loss is : \",log_loss(y_true,y_predicted))"
      ],
      "metadata": {
        "colab": {
          "base_uri": "https://localhost:8080/"
        },
        "id": "1BtaFf4_0J8i",
        "outputId": "62e8e541-9301-46be-812f-f454a22d0ef6"
      },
      "execution_count": 34,
      "outputs": [
        {
          "output_type": "stream",
          "name": "stdout",
          "text": [
            "the log loss is :  9.992007221626415e-16\n"
          ]
        }
      ]
    },
    {
      "cell_type": "code",
      "source": [
        "#mean squared error with using numpy's\n",
        "np.mean((y_true-y_predicted)**2)"
      ],
      "metadata": {
        "colab": {
          "base_uri": "https://localhost:8080/"
        },
        "id": "F33xh8HN1MYh",
        "outputId": "d0f0122d-b11b-46b5-e2e3-7629ccade1c3"
      },
      "execution_count": 41,
      "outputs": [
        {
          "output_type": "execute_result",
          "data": {
            "text/plain": [
              "0.366"
            ]
          },
          "metadata": {},
          "execution_count": 41
        }
      ]
    }
  ]
}